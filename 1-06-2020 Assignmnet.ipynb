{
 "cells": [
  {
   "cell_type": "markdown",
   "metadata": {},
   "source": [
    "## CSE-221710309010-Swamicharan"
   ]
  },
  {
   "cell_type": "code",
   "execution_count": 5,
   "metadata": {},
   "outputs": [
    {
     "name": "stdout",
     "output_type": "stream",
     "text": [
      "Do you want a password? Enter yes or noyes\n",
      "Sleepchair58:\n",
      "Do you want a password? Enter yes or nono\n"
     ]
    }
   ],
   "source": [
    "#Project\n",
    "#Password picker\n",
    "import string\n",
    "import random\n",
    "\n",
    "verblist=[\"Eat\",\"Sleep\",\"Bath\",\"Walk\",\"Stand\",\"Play\",\"Run\",\"Cook\",\"Build\",\"Make\"]\n",
    "nounlist=[\"pen\",\"pencil\",\"eraser\",\"mobile\",\"book\",\"sofa\",\"chair\",\"table\",\"remote\",\"laptop\"]\n",
    "\n",
    "while(str):\n",
    "        str=input(\"Do you want a password? Enter yes or no\")\n",
    "        if(str==\"yes\"):\n",
    "            print(random.choice(verblist)+random.choice(nounlist),end=\"\")\n",
    "            print(random.randint(1,100),end=\"\")\n",
    "            print(random.choice(string.punctuation))\n",
    "        else:\n",
    "             break"
   ]
  },
  {
   "cell_type": "code",
   "execution_count": null,
   "metadata": {},
   "outputs": [],
   "source": [
    "\n"
   ]
  },
  {
   "cell_type": "code",
   "execution_count": null,
   "metadata": {},
   "outputs": [],
   "source": []
  },
  {
   "cell_type": "code",
   "execution_count": null,
   "metadata": {},
   "outputs": [],
   "source": []
  }
 ],
 "metadata": {
  "kernelspec": {
   "display_name": "Python 3",
   "language": "python",
   "name": "python3"
  },
  "language_info": {
   "codemirror_mode": {
    "name": "ipython",
    "version": 3
   },
   "file_extension": ".py",
   "mimetype": "text/x-python",
   "name": "python",
   "nbconvert_exporter": "python",
   "pygments_lexer": "ipython3",
   "version": "3.7.6"
  }
 },
 "nbformat": 4,
 "nbformat_minor": 4
}
